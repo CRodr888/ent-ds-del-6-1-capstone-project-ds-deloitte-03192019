{
 "cells": [
  {
   "cell_type": "markdown",
   "metadata": {},
   "source": [
    "# Capstone Project\n",
    "\n",
    "\n",
    "## Introduction\n",
    "\n",
    "Wow - it's been quite a ride. Just a few weeks ago most of you hadn't used Python, and now you're importing, cleaning up and exporting data like a pro! In this final lesson, we're going to give you a couple of challenges to work on to pull things together. \n",
    "\n",
    "In the first, you'll import from a csv file and access information about the data set using various Pandas methods. In the second, you'll scrape information from another website and save the results to a csv. There will also be some time for more open Q&A and discussions about what to do next after completing the course.\n",
    "\n",
    "\n",
    "## Objectives|\n",
    "You will be able to:\n",
    "* Import, examine, transform and save data from a variety of sources"
   ]
  },
  {
   "cell_type": "markdown",
   "metadata": {},
   "source": [
    "## How are we Doing?\n",
    "\n",
    "Lets start by taking a little bit of time to discuss how has the course gone? Take a few minutes to answer the following questions:\n",
    "1. After the course, how specifically do you expect to use the skills you have learned during the course?\n",
    "2. What skills that you have learned do you think will be particularly useful?\n",
    "3. Are there any things we've covered that you do not think will be applicable? Which ones?\n",
    "4. Are there any things you wish we would have had time to cover - and what would those things have allowed you to do at work that we've not provided you with the skills to work on?\n",
    "5. What is one thing you could do in the next week that would start to use some of these skills to automate some of the work that you currently have to do manually?\n",
    "\n",
    "Your instructor will facilitate the process of discussing your answers and providing feedback and thoughts on good next steps!"
   ]
  },
  {
   "cell_type": "markdown",
   "metadata": {},
   "source": [
    "## Challenge 1 - csv Import & Exploration\n",
    "\n",
    "Let's start with a fairly straightforward project. There is a file in this directory called `company-funding.csv`. It is is a listing of 1,460 company funding records reported by TechCrunch.\n",
    "\n",
    "Start by reading the data into a dataframe, and examining it."
   ]
  },
  {
   "cell_type": "code",
   "execution_count": null,
   "metadata": {},
   "outputs": [],
   "source": [
    "# Your code here"
   ]
  },
  {
   "cell_type": "markdown",
   "metadata": {},
   "source": [
    "OK, now answer the following questions *(write code in the boxes below, and fill out the \"answer\" comments)*:"
   ]
  },
  {
   "cell_type": "code",
   "execution_count": null,
   "metadata": {},
   "outputs": [],
   "source": [
    "# How many different currencies were funds raised in?\n",
    "# Answer: \n",
    "# What percentage of the raised were in USD?\n",
    "# Answer: \n"
   ]
  },
  {
   "cell_type": "code",
   "execution_count": null,
   "metadata": {},
   "outputs": [],
   "source": [
    "# How many different states had at least one fund raising in this "
   ]
  },
  {
   "cell_type": "code",
   "execution_count": null,
   "metadata": {},
   "outputs": [],
   "source": [
    "# What was the average amount raised?\n",
    "# Answer: "
   ]
  },
  {
   "cell_type": "code",
   "execution_count": null,
   "metadata": {},
   "outputs": [],
   "source": [
    "# What was the median amount raised?\n",
    "# Answer: "
   ]
  },
  {
   "cell_type": "code",
   "execution_count": null,
   "metadata": {},
   "outputs": [],
   "source": [
    "# What percentage of the raises were in New York (state)?\n",
    "# Answer: "
   ]
  },
  {
   "cell_type": "code",
   "execution_count": null,
   "metadata": {},
   "outputs": [],
   "source": [
    "# What was the average seed round raised in California?\n",
    "# Answer: "
   ]
  },
  {
   "cell_type": "code",
   "execution_count": null,
   "metadata": {},
   "outputs": [],
   "source": [
    "# What were all of the different values for the \"round\" column?\n",
    "# Answer: a, b, c, angel, seed, d, unattributed, debt_round, e"
   ]
  },
  {
   "cell_type": "code",
   "execution_count": null,
   "metadata": {},
   "outputs": [],
   "source": [
    "# What is the average number of raises per company?\n",
    "# Hint, check out the df.groupby() method\n",
    "# Answer: "
   ]
  },
  {
   "cell_type": "code",
   "execution_count": null,
   "metadata": {},
   "outputs": [],
   "source": [
    "# What is the largest number of raises by any single company?\n",
    "# Hint: the is a max() method\n",
    "# Answer: "
   ]
  },
  {
   "cell_type": "code",
   "execution_count": null,
   "metadata": {},
   "outputs": [],
   "source": [
    "# What is the largest total amount of money raised by any one company?\n",
    "# Hint: there is a sum() method\n",
    "# Answer: "
   ]
  },
  {
   "cell_type": "code",
   "execution_count": null,
   "metadata": {},
   "outputs": [],
   "source": [
    "# Take all of the angel round deals and make them into seed rounds "
   ]
  },
  {
   "cell_type": "code",
   "execution_count": null,
   "metadata": {},
   "outputs": [],
   "source": [
    "# Take all of the seed and a rounds and make them \"early stage\" instead"
   ]
  },
  {
   "cell_type": "code",
   "execution_count": null,
   "metadata": {},
   "outputs": [],
   "source": [
    "# In the modified dataframe, what percentage of the rounds left were \"early stage\" (seed or a) in New York?\n",
    "# Answer: "
   ]
  },
  {
   "cell_type": "code",
   "execution_count": null,
   "metadata": {},
   "outputs": [],
   "source": [
    "# Finally, please save the results from the modified dataframe to a file called \"funding2.csv\"\n",
    "\n",
    "# Then reopen the file, reading it into a new dataframe\n",
    "# How many records does it contain?\n",
    "# Answer: "
   ]
  },
  {
   "cell_type": "markdown",
   "metadata": {},
   "source": [
    "## Web Scraping Practice\n",
    "\n",
    "Here's a chance to practice your web scraping skills. In this final section, you'll practice your scraping skills on a music website: https://www.residentadvisor.net. Start by navigating to the events page [here](https://www.residentadvisor.net/events) in your browser.\n",
    "\n",
    "<img src=\"images/ra.png\">\n",
    "\n",
    "Next up, open the \"inspect element\" feature in your web browser in order to preview the underlying HTML associated with the page. \n",
    "\n",
    "Start by importing all of the methods you need and then loading all of the event listings into a collection called `event_listings`"
   ]
  },
  {
   "cell_type": "code",
   "execution_count": null,
   "metadata": {},
   "outputs": [],
   "source": []
  },
  {
   "cell_type": "markdown",
   "metadata": {},
   "source": [
    "Now iterate over the collection to load the Event_Name, Venue and Event_Date into a DataFrame:"
   ]
  },
  {
   "cell_type": "code",
   "execution_count": null,
   "metadata": {},
   "outputs": [],
   "source": []
  },
  {
   "cell_type": "markdown",
   "metadata": {},
   "source": [
    "And finally, save the results to a csv file called `events.csv`, and confirm you can read from the file into a new DataFrame."
   ]
  },
  {
   "cell_type": "code",
   "execution_count": null,
   "metadata": {},
   "outputs": [],
   "source": []
  },
  {
   "cell_type": "markdown",
   "metadata": {},
   "source": [
    "## Summary\n",
    "\n",
    "Congratulations! Thanks so much for taking the time to improve your skills. This course won't answer all of your questions or provide all of the skills that you need. The number of tools out there and the speed at which technology changes makes that impractical. But hopefully you'll be able to use what you have learned as a starting point for future exploration and improvements! Thanks so much for your time!\n"
   ]
  }
 ],
 "metadata": {
  "kernelspec": {
   "display_name": "Python 3",
   "language": "python",
   "name": "python3"
  },
  "language_info": {
   "codemirror_mode": {
    "name": "ipython",
    "version": 3
   },
   "file_extension": ".py",
   "mimetype": "text/x-python",
   "name": "python",
   "nbconvert_exporter": "python",
   "pygments_lexer": "ipython3",
   "version": "3.6.5"
  }
 },
 "nbformat": 4,
 "nbformat_minor": 2
}
