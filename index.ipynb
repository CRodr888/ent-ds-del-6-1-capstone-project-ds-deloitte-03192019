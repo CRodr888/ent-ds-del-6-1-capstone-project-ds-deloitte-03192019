{
 "cells": [
  {
   "cell_type": "markdown",
   "metadata": {},
   "source": [
    "# Capstone Project\n",
    "\n",
    "\n",
    "## Introduction\n",
    "\n",
    "Wow - it's been quite a ride. Just a few weeks ago most of you hadn't used Python, and now you're importing, cleaning up and exporting data like a pro! In this final lesson, we're going to give you a few challenges to perform to pull everything together. There will also be some time for more open Q&A and discussion around next steps. \n",
    "\n",
    "\n",
    "## Objectives\n",
    "You will be able to:\n",
    "* Import, examine, transform and save data from a variety of sources"
   ]
  },
  {
   "cell_type": "markdown",
   "metadata": {},
   "source": [
    "## How are we Doing?\n",
    "\n",
    "Lets start by taking a little bit of time to discuss how has the course gone? Take a few minutes to answer the following questions:\n",
    "1. After the course, how specifically do you expect to use the skills you have learned during the course?\n",
    "2. What skills that you have learned do you think will be particularly useful?\n",
    "3. Are there any things we've covered that you do not think will be applicable? Which ones?\n",
    "4. Are there any things you wish we would have had time to cover - and what would those things have allowed you to do at work that we've not provided you with the skills to work on?\n",
    "5. What is one thing you could do in the next week that would start to use some of these skills to automate some of the work that you currently have to do manually?\n",
    "\n",
    "Your instructor will facilitate the process of discussing your answers and providing feedback and thoughts on good next steps!"
   ]
  },
  {
   "cell_type": "markdown",
   "metadata": {},
   "source": [
    "## Warm up #1 - csv import & exploration\n",
    "\n",
    "Let's start with a fairly straightforward project. There is a file in this directory called `company-funding.csv`. It is is a listing of 1,460 company funding records reported by TechCrunch.\n",
    "\n",
    "Start by reading the data into a dataframe, and examining it."
   ]
  },
  {
   "cell_type": "code",
   "execution_count": 4,
   "metadata": {},
   "outputs": [
    {
     "data": {
      "text/html": [
       "<div>\n",
       "<style scoped>\n",
       "    .dataframe tbody tr th:only-of-type {\n",
       "        vertical-align: middle;\n",
       "    }\n",
       "\n",
       "    .dataframe tbody tr th {\n",
       "        vertical-align: top;\n",
       "    }\n",
       "\n",
       "    .dataframe thead th {\n",
       "        text-align: right;\n",
       "    }\n",
       "</style>\n",
       "<table border=\"1\" class=\"dataframe\">\n",
       "  <thead>\n",
       "    <tr style=\"text-align: right;\">\n",
       "      <th></th>\n",
       "      <th>permalink</th>\n",
       "      <th>company</th>\n",
       "      <th>numEmps</th>\n",
       "      <th>category</th>\n",
       "      <th>city</th>\n",
       "      <th>state</th>\n",
       "      <th>fundedDate</th>\n",
       "      <th>raisedAmt</th>\n",
       "      <th>raisedCurrency</th>\n",
       "      <th>round</th>\n",
       "    </tr>\n",
       "  </thead>\n",
       "  <tbody>\n",
       "    <tr>\n",
       "      <th>0</th>\n",
       "      <td>lifelock</td>\n",
       "      <td>LifeLock</td>\n",
       "      <td>NaN</td>\n",
       "      <td>web</td>\n",
       "      <td>Tempe</td>\n",
       "      <td>AZ</td>\n",
       "      <td>1-May-07</td>\n",
       "      <td>6850000</td>\n",
       "      <td>USD</td>\n",
       "      <td>b</td>\n",
       "    </tr>\n",
       "    <tr>\n",
       "      <th>1</th>\n",
       "      <td>lifelock</td>\n",
       "      <td>LifeLock</td>\n",
       "      <td>NaN</td>\n",
       "      <td>web</td>\n",
       "      <td>Tempe</td>\n",
       "      <td>AZ</td>\n",
       "      <td>1-Oct-06</td>\n",
       "      <td>6000000</td>\n",
       "      <td>USD</td>\n",
       "      <td>a</td>\n",
       "    </tr>\n",
       "    <tr>\n",
       "      <th>2</th>\n",
       "      <td>lifelock</td>\n",
       "      <td>LifeLock</td>\n",
       "      <td>NaN</td>\n",
       "      <td>web</td>\n",
       "      <td>Tempe</td>\n",
       "      <td>AZ</td>\n",
       "      <td>1-Jan-08</td>\n",
       "      <td>25000000</td>\n",
       "      <td>USD</td>\n",
       "      <td>c</td>\n",
       "    </tr>\n",
       "    <tr>\n",
       "      <th>3</th>\n",
       "      <td>mycityfaces</td>\n",
       "      <td>MyCityFaces</td>\n",
       "      <td>7.0</td>\n",
       "      <td>web</td>\n",
       "      <td>Scottsdale</td>\n",
       "      <td>AZ</td>\n",
       "      <td>1-Jan-08</td>\n",
       "      <td>50000</td>\n",
       "      <td>USD</td>\n",
       "      <td>seed</td>\n",
       "    </tr>\n",
       "    <tr>\n",
       "      <th>4</th>\n",
       "      <td>flypaper</td>\n",
       "      <td>Flypaper</td>\n",
       "      <td>NaN</td>\n",
       "      <td>web</td>\n",
       "      <td>Phoenix</td>\n",
       "      <td>AZ</td>\n",
       "      <td>1-Feb-08</td>\n",
       "      <td>3000000</td>\n",
       "      <td>USD</td>\n",
       "      <td>a</td>\n",
       "    </tr>\n",
       "  </tbody>\n",
       "</table>\n",
       "</div>"
      ],
      "text/plain": [
       "     permalink      company  numEmps category        city state fundedDate  \\\n",
       "0     lifelock     LifeLock      NaN      web       Tempe    AZ   1-May-07   \n",
       "1     lifelock     LifeLock      NaN      web       Tempe    AZ   1-Oct-06   \n",
       "2     lifelock     LifeLock      NaN      web       Tempe    AZ   1-Jan-08   \n",
       "3  mycityfaces  MyCityFaces      7.0      web  Scottsdale    AZ   1-Jan-08   \n",
       "4     flypaper     Flypaper      NaN      web     Phoenix    AZ   1-Feb-08   \n",
       "\n",
       "   raisedAmt raisedCurrency round  \n",
       "0    6850000            USD     b  \n",
       "1    6000000            USD     a  \n",
       "2   25000000            USD     c  \n",
       "3      50000            USD  seed  \n",
       "4    3000000            USD     a  "
      ]
     },
     "execution_count": 4,
     "metadata": {},
     "output_type": "execute_result"
    }
   ],
   "source": [
    "# Your code here\n",
    "import pandas as pd\n",
    "df = pd.read_csv('company-funding.csv')\n",
    "df.head()"
   ]
  },
  {
   "cell_type": "markdown",
   "metadata": {},
   "source": [
    "OK, now answer the following questions *(write code in the boxes below, and fill out the \"answer\" comments)*:"
   ]
  },
  {
   "cell_type": "code",
   "execution_count": 5,
   "metadata": {},
   "outputs": [
    {
     "data": {
      "text/plain": [
       "count     1460\n",
       "unique       3\n",
       "top        USD\n",
       "freq      1458\n",
       "Name: raisedCurrency, dtype: object"
      ]
     },
     "execution_count": 5,
     "metadata": {},
     "output_type": "execute_result"
    }
   ],
   "source": [
    "# How many different currencies were funds raised in?\n",
    "# Answer: 3\n",
    "# What percentage of the raised were in USD?\n",
    "# Answer: 1458/1460 = 99.86%\n",
    "\n",
    "df[\"raisedCurrency\"].describe()"
   ]
  },
  {
   "cell_type": "code",
   "execution_count": 6,
   "metadata": {},
   "outputs": [
    {
     "data": {
      "text/plain": [
       "count     1460\n",
       "unique      33\n",
       "top         CA\n",
       "freq       873\n",
       "Name: state, dtype: object"
      ]
     },
     "execution_count": 6,
     "metadata": {},
     "output_type": "execute_result"
    }
   ],
   "source": [
    "# How many different states had at least one fund raising in this \n",
    "df[\"state\"].describe()"
   ]
  },
  {
   "cell_type": "code",
   "execution_count": 7,
   "metadata": {},
   "outputs": [
    {
     "data": {
      "text/plain": [
       "10131487.5"
      ]
     },
     "execution_count": 7,
     "metadata": {},
     "output_type": "execute_result"
    }
   ],
   "source": [
    "# What was the average amount raised?\n",
    "# Answer: $10,131,487.5\n",
    "df[\"raisedAmt\"].mean()"
   ]
  },
  {
   "cell_type": "code",
   "execution_count": 10,
   "metadata": {},
   "outputs": [
    {
     "data": {
      "text/plain": [
       "5500000.0"
      ]
     },
     "execution_count": 10,
     "metadata": {},
     "output_type": "execute_result"
    }
   ],
   "source": [
    "# What was the median amount raised?\n",
    "# Answer: $5,500,000.0\n",
    "df[\"raisedAmt\"].median()"
   ]
  },
  {
   "cell_type": "code",
   "execution_count": null,
   "metadata": {},
   "outputs": [],
   "source": [
    "# What percentage of the raises were in New York (state)?\n",
    "# Answer: \n",
    "\n",
    "# What was the average amount raised in New York?\n",
    "# Answer: \n",
    "\n",
    "# What was the average amount raised in California?\n",
    "# Answer: \n"
   ]
  },
  {
   "cell_type": "code",
   "execution_count": null,
   "metadata": {},
   "outputs": [],
   "source": [
    "# What was the average seed round raised in California?\n",
    "# Answer: "
   ]
  },
  {
   "cell_type": "code",
   "execution_count": 12,
   "metadata": {},
   "outputs": [
    {
     "data": {
      "text/plain": [
       "a               582\n",
       "b               371\n",
       "c               141\n",
       "angel           135\n",
       "seed            128\n",
       "d                47\n",
       "unattributed     28\n",
       "debt_round       17\n",
       "e                11\n",
       "Name: round, dtype: int64"
      ]
     },
     "execution_count": 12,
     "metadata": {},
     "output_type": "execute_result"
    }
   ],
   "source": [
    "# What were all of the different values for the \"round\" column?\n",
    "# Answer: a, b, c, angel, seed, d, unattributed, debt_round, e\n",
    "df['round'].value_counts()"
   ]
  },
  {
   "cell_type": "code",
   "execution_count": null,
   "metadata": {},
   "outputs": [],
   "source": [
    "# What is the aveage number of raises per company?\n",
    "# Answer: \n"
   ]
  },
  {
   "cell_type": "code",
   "execution_count": 14,
   "metadata": {},
   "outputs": [],
   "source": [
    "# Which company had the largest number of raises?\n",
    "# Answer: \n"
   ]
  },
  {
   "cell_type": "code",
   "execution_count": null,
   "metadata": {},
   "outputs": [],
   "source": [
    "# Which company raised the largest amount of money?\n",
    "# Answer: \n"
   ]
  },
  {
   "cell_type": "code",
   "execution_count": 13,
   "metadata": {},
   "outputs": [],
   "source": [
    "# Take all of the angel round deals and make them seed rounds from the dataframe\n",
    "# Answer: \n"
   ]
  },
  {
   "cell_type": "code",
   "execution_count": null,
   "metadata": {},
   "outputs": [],
   "source": [
    "# Remove all of the debt_rounds and unattributed rounds from the dataframe\n",
    "# Answer: \n"
   ]
  },
  {
   "cell_type": "code",
   "execution_count": null,
   "metadata": {},
   "outputs": [],
   "source": [
    "# In the modified dataframe, what percentage of the rounds left were \"early stage\" (seed or a)?\n",
    "# Answer: \n"
   ]
  },
  {
   "cell_type": "code",
   "execution_count": null,
   "metadata": {},
   "outputs": [],
   "source": [
    "# In the modified dataframe, what percentage of the dollars raised were \"early stage\" (seed or a)?\n",
    "# Answer: \n"
   ]
  },
  {
   "cell_type": "code",
   "execution_count": null,
   "metadata": {},
   "outputs": [],
   "source": [
    "# What is the aveage number of raises per company?\n",
    "# Answer: "
   ]
  },
  {
   "cell_type": "markdown",
   "metadata": {},
   "source": [
    "## Warm up #2 - working with free text\n",
    "\n",
    "\n"
   ]
  },
  {
   "cell_type": "markdown",
   "metadata": {},
   "source": []
  },
  {
   "cell_type": "code",
   "execution_count": null,
   "metadata": {},
   "outputs": [],
   "source": []
  },
  {
   "cell_type": "code",
   "execution_count": null,
   "metadata": {},
   "outputs": [],
   "source": []
  },
  {
   "cell_type": "markdown",
   "metadata": {},
   "source": [
    "## Summary\n",
    "\n",
    "Congratulations! Thanks so much for taking the time to improve your skills. This course won't answer all of your questions or provide all of the skills that you need. The number of tools out there and the speed at which technology changes makes that impractical. But hopefully you'll be able to use what you have learned as a starting point for future exploration and improvements! Thanks so much for your time!\n"
   ]
  }
 ],
 "metadata": {
  "kernelspec": {
   "display_name": "Python 3",
   "language": "python",
   "name": "python3"
  },
  "language_info": {
   "codemirror_mode": {
    "name": "ipython",
    "version": 3
   },
   "file_extension": ".py",
   "mimetype": "text/x-python",
   "name": "python",
   "nbconvert_exporter": "python",
   "pygments_lexer": "ipython3",
   "version": "3.6.5"
  }
 },
 "nbformat": 4,
 "nbformat_minor": 2
}
