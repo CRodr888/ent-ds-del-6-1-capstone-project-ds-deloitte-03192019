{
 "cells": [
  {
   "cell_type": "markdown",
   "metadata": {},
   "source": [
    "# Capstone Project\n",
    "\n",
    "\n",
    "## Introduction\n",
    "\n",
    "Wow - it's been quite a ride. Just a few weeks ago most of you hadn't used Python, and now you're importing, cleaning up and exporting data like a pro! In this final lesson, we're going to give you a couple of challenges to work on to pull things together. \n",
    "\n",
    "In the first, you'll import from a csv file and access information about the data set using various Pandas methods. In the second, you'll scrape information from another website and save the results to a csv. There will also be some time for more open Q&A and discussions about what to do next after completing the course.\n",
    "\n",
    "\n",
    "## Objectives|\n",
    "You will be able to:\n",
    "* Import, examine, transform and save data from a variety of sources"
   ]
  },
  {
   "cell_type": "markdown",
   "metadata": {},
   "source": [
    "## How are we Doing?\n",
    "\n",
    "Lets start by taking a little bit of time to discuss how has the course gone? Take a few minutes to answer the following questions:\n",
    "1. After the course, how specifically do you expect to use the skills you have learned during the course?\n",
    "2. What skills that you have learned do you think will be particularly useful?\n",
    "3. Are there any things we've covered that you do not think will be applicable? Which ones?\n",
    "4. Are there any things you wish we would have had time to cover - and what would those things have allowed you to do at work that we've not provided you with the skills to work on?\n",
    "5. What is one thing you could do in the next week that would start to use some of these skills to automate some of the work that you currently have to do manually?\n",
    "\n",
    "Your instructor will facilitate the process of discussing your answers and providing feedback and thoughts on good next steps!"
   ]
  },
  {
   "cell_type": "markdown",
   "metadata": {},
   "source": [
    "## Challenge 1 - csv Import & Exploration\n",
    "\n",
    "Let's start with a fairly straightforward project. There is a file in this directory called `company-funding.csv`. It is is a listing of 1,460 company funding records reported by TechCrunch.\n",
    "\n",
    "Start by reading the data into a dataframe, and examining it."
   ]
  },
  {
   "cell_type": "code",
   "execution_count": 93,
   "metadata": {},
   "outputs": [
    {
     "data": {
      "text/html": [
       "<div>\n",
       "<style scoped>\n",
       "    .dataframe tbody tr th:only-of-type {\n",
       "        vertical-align: middle;\n",
       "    }\n",
       "\n",
       "    .dataframe tbody tr th {\n",
       "        vertical-align: top;\n",
       "    }\n",
       "\n",
       "    .dataframe thead th {\n",
       "        text-align: right;\n",
       "    }\n",
       "</style>\n",
       "<table border=\"1\" class=\"dataframe\">\n",
       "  <thead>\n",
       "    <tr style=\"text-align: right;\">\n",
       "      <th></th>\n",
       "      <th>permalink</th>\n",
       "      <th>company</th>\n",
       "      <th>numEmps</th>\n",
       "      <th>category</th>\n",
       "      <th>city</th>\n",
       "      <th>state</th>\n",
       "      <th>fundedDate</th>\n",
       "      <th>raisedAmt</th>\n",
       "      <th>raisedCurrency</th>\n",
       "      <th>round</th>\n",
       "    </tr>\n",
       "  </thead>\n",
       "  <tbody>\n",
       "    <tr>\n",
       "      <th>0</th>\n",
       "      <td>lifelock</td>\n",
       "      <td>LifeLock</td>\n",
       "      <td>NaN</td>\n",
       "      <td>web</td>\n",
       "      <td>Tempe</td>\n",
       "      <td>AZ</td>\n",
       "      <td>1-May-07</td>\n",
       "      <td>6850000</td>\n",
       "      <td>USD</td>\n",
       "      <td>b</td>\n",
       "    </tr>\n",
       "    <tr>\n",
       "      <th>1</th>\n",
       "      <td>lifelock</td>\n",
       "      <td>LifeLock</td>\n",
       "      <td>NaN</td>\n",
       "      <td>web</td>\n",
       "      <td>Tempe</td>\n",
       "      <td>AZ</td>\n",
       "      <td>1-Oct-06</td>\n",
       "      <td>6000000</td>\n",
       "      <td>USD</td>\n",
       "      <td>a</td>\n",
       "    </tr>\n",
       "    <tr>\n",
       "      <th>2</th>\n",
       "      <td>lifelock</td>\n",
       "      <td>LifeLock</td>\n",
       "      <td>NaN</td>\n",
       "      <td>web</td>\n",
       "      <td>Tempe</td>\n",
       "      <td>AZ</td>\n",
       "      <td>1-Jan-08</td>\n",
       "      <td>25000000</td>\n",
       "      <td>USD</td>\n",
       "      <td>c</td>\n",
       "    </tr>\n",
       "    <tr>\n",
       "      <th>3</th>\n",
       "      <td>mycityfaces</td>\n",
       "      <td>MyCityFaces</td>\n",
       "      <td>7.0</td>\n",
       "      <td>web</td>\n",
       "      <td>Scottsdale</td>\n",
       "      <td>AZ</td>\n",
       "      <td>1-Jan-08</td>\n",
       "      <td>50000</td>\n",
       "      <td>USD</td>\n",
       "      <td>seed</td>\n",
       "    </tr>\n",
       "    <tr>\n",
       "      <th>4</th>\n",
       "      <td>flypaper</td>\n",
       "      <td>Flypaper</td>\n",
       "      <td>NaN</td>\n",
       "      <td>web</td>\n",
       "      <td>Phoenix</td>\n",
       "      <td>AZ</td>\n",
       "      <td>1-Feb-08</td>\n",
       "      <td>3000000</td>\n",
       "      <td>USD</td>\n",
       "      <td>a</td>\n",
       "    </tr>\n",
       "  </tbody>\n",
       "</table>\n",
       "</div>"
      ],
      "text/plain": [
       "     permalink      company  numEmps category        city state fundedDate  \\\n",
       "0     lifelock     LifeLock      NaN      web       Tempe    AZ   1-May-07   \n",
       "1     lifelock     LifeLock      NaN      web       Tempe    AZ   1-Oct-06   \n",
       "2     lifelock     LifeLock      NaN      web       Tempe    AZ   1-Jan-08   \n",
       "3  mycityfaces  MyCityFaces      7.0      web  Scottsdale    AZ   1-Jan-08   \n",
       "4     flypaper     Flypaper      NaN      web     Phoenix    AZ   1-Feb-08   \n",
       "\n",
       "   raisedAmt raisedCurrency round  \n",
       "0    6850000            USD     b  \n",
       "1    6000000            USD     a  \n",
       "2   25000000            USD     c  \n",
       "3      50000            USD  seed  \n",
       "4    3000000            USD     a  "
      ]
     },
     "execution_count": 93,
     "metadata": {},
     "output_type": "execute_result"
    }
   ],
   "source": [
    "# Your code here\n",
    "import pandas as pd\n",
    "df = pd.read_csv('company-funding.csv')\n",
    "df.head()"
   ]
  },
  {
   "cell_type": "markdown",
   "metadata": {},
   "source": [
    "OK, now answer the following questions *(write code in the boxes below, and fill out the \"answer\" comments)*:"
   ]
  },
  {
   "cell_type": "code",
   "execution_count": 94,
   "metadata": {},
   "outputs": [
    {
     "data": {
      "text/plain": [
       "count     1460\n",
       "unique       3\n",
       "top        USD\n",
       "freq      1458\n",
       "Name: raisedCurrency, dtype: object"
      ]
     },
     "execution_count": 94,
     "metadata": {},
     "output_type": "execute_result"
    }
   ],
   "source": [
    "# How many different currencies were funds raised in?\n",
    "# Answer: 3\n",
    "# What percentage of the raised were in USD?\n",
    "# Answer: 1458/1460 = 99.86%\n",
    "\n",
    "df[\"raisedCurrency\"].describe()"
   ]
  },
  {
   "cell_type": "code",
   "execution_count": 95,
   "metadata": {},
   "outputs": [
    {
     "data": {
      "text/plain": [
       "count     1460\n",
       "unique      33\n",
       "top         CA\n",
       "freq       873\n",
       "Name: state, dtype: object"
      ]
     },
     "execution_count": 95,
     "metadata": {},
     "output_type": "execute_result"
    }
   ],
   "source": [
    "# How many different states had at least one fund raising in this \n",
    "df[\"state\"].describe()"
   ]
  },
  {
   "cell_type": "code",
   "execution_count": 96,
   "metadata": {},
   "outputs": [
    {
     "data": {
      "text/plain": [
       "10131487.5"
      ]
     },
     "execution_count": 96,
     "metadata": {},
     "output_type": "execute_result"
    }
   ],
   "source": [
    "# What was the average amount raised?\n",
    "# Answer: $10,131,487.5\n",
    "df[\"raisedAmt\"].mean()"
   ]
  },
  {
   "cell_type": "code",
   "execution_count": 97,
   "metadata": {},
   "outputs": [
    {
     "data": {
      "text/plain": [
       "5500000.0"
      ]
     },
     "execution_count": 97,
     "metadata": {},
     "output_type": "execute_result"
    }
   ],
   "source": [
    "# What was the median amount raised?\n",
    "# Answer: $5,500,000.0\n",
    "df[\"raisedAmt\"].median()"
   ]
  },
  {
   "cell_type": "code",
   "execution_count": 101,
   "metadata": {},
   "outputs": [
    {
     "name": "stdout",
     "output_type": "stream",
     "text": [
      "125\n",
      "1460\n",
      "7121480.0\n"
     ]
    },
    {
     "data": {
      "text/plain": [
       "10723235.96792669"
      ]
     },
     "execution_count": 101,
     "metadata": {},
     "output_type": "execute_result"
    }
   ],
   "source": [
    "# What percentage of the raises were in New York (state)?\n",
    "# Answer: 125/1460 \n",
    "ny_raises = df.loc[df[\"state\"] == \"NY\"]\n",
    "print(len(ny_raises))\n",
    "print(len(df))\n",
    "\n",
    "# What was the average amount raised in New York?\n",
    "# Answer: $7,121,480\n",
    "print(ny_raises.raisedAmt.mean())\n",
    "\n",
    "# What was the average amount raised in California?\n",
    "# Answer: $10,723,235\n",
    "ca_raises = df.loc[df[\"state\"] == \"CA\"]\n",
    "ca_raises.raisedAmt.mean()"
   ]
  },
  {
   "cell_type": "code",
   "execution_count": 102,
   "metadata": {},
   "outputs": [
    {
     "data": {
      "text/plain": [
       "877821.4285714285"
      ]
     },
     "execution_count": 102,
     "metadata": {},
     "output_type": "execute_result"
    }
   ],
   "source": [
    "# What was the average seed round raised in California?\n",
    "# Answer: $877,821\n",
    "ca_raises = df[df[\"state\"] == \"CA\"]\n",
    "ca_seed_raises = ca_raises[ca_raises[\"round\"] == \"seed\"]\n",
    "ca_seed_raises.raisedAmt.mean()"
   ]
  },
  {
   "cell_type": "code",
   "execution_count": 103,
   "metadata": {},
   "outputs": [
    {
     "data": {
      "text/plain": [
       "a               582\n",
       "b               371\n",
       "c               141\n",
       "angel           135\n",
       "seed            128\n",
       "d                47\n",
       "unattributed     28\n",
       "debt_round       17\n",
       "e                11\n",
       "Name: round, dtype: int64"
      ]
     },
     "execution_count": 103,
     "metadata": {},
     "output_type": "execute_result"
    }
   ],
   "source": [
    "# What were all of the different values for the \"round\" column?\n",
    "# Answer: a, b, c, angel, seed, d, unattributed, debt_round, e\n",
    "df['round'].value_counts()"
   ]
  },
  {
   "cell_type": "code",
   "execution_count": 105,
   "metadata": {},
   "outputs": [
    {
     "name": "stdout",
     "output_type": "stream",
     "text": [
      "909\n",
      "1460\n"
     ]
    }
   ],
   "source": [
    "# What is the average number of raises per company?\n",
    "# Hint, check out the df.groupby() method\n",
    "# Answer: 1460 raises / 909 companies = 1.6\n",
    "groupby_company = df.groupby(\"company\")\n",
    "print(len(groupby_company))\n",
    "print(len(df))"
   ]
  },
  {
   "cell_type": "code",
   "execution_count": 107,
   "metadata": {},
   "outputs": [
    {
     "data": {
      "text/plain": [
       "7"
      ]
     },
     "execution_count": 107,
     "metadata": {},
     "output_type": "execute_result"
    }
   ],
   "source": [
    "# What is the largest number of raises by any single company?\n",
    "# Hint: the is a max() method\n",
    "# Answer: 7\n",
    "groupby_company = df.groupby(\"company\")\n",
    "groupby_company.count().raisedAmt.max()"
   ]
  },
  {
   "cell_type": "code",
   "execution_count": 108,
   "metadata": {},
   "outputs": [
    {
     "name": "stdout",
     "output_type": "stream",
     "text": [
      "495700000\n"
     ]
    }
   ],
   "source": [
    "# What is the largest total amount of money raised by any one company?\n",
    "# Hint: there is a sum() method\n",
    "# Answer: $495,700,000\n",
    "groupby_company = df.groupby(\"company\")\n",
    "print(groupby_company.sum()[\"raisedAmt\"].max())"
   ]
  },
  {
   "cell_type": "code",
   "execution_count": 114,
   "metadata": {},
   "outputs": [
    {
     "data": {
      "text/plain": [
       "a               582\n",
       "b               371\n",
       "seed            263\n",
       "c               141\n",
       "d                47\n",
       "unattributed     28\n",
       "debt_round       17\n",
       "e                11\n",
       "Name: round, dtype: int64"
      ]
     },
     "execution_count": 114,
     "metadata": {},
     "output_type": "execute_result"
    }
   ],
   "source": [
    "# Take all of the angel round deals and make them into seed rounds \n",
    "df.loc[df[\"round\"] == \"angel\", \"round\"] = \"seed\"\n",
    "df[\"round\"].value_counts()"
   ]
  },
  {
   "cell_type": "code",
   "execution_count": 122,
   "metadata": {},
   "outputs": [
    {
     "data": {
      "text/plain": [
       "early stage     845\n",
       "b               371\n",
       "c               141\n",
       "d                47\n",
       "unattributed     28\n",
       "debt_round       17\n",
       "e                11\n",
       "Name: round, dtype: int64"
      ]
     },
     "execution_count": 122,
     "metadata": {},
     "output_type": "execute_result"
    }
   ],
   "source": [
    "# Take all of the seed and a rounds and make them \"early stage\" instead\n",
    "df.loc[df[\"round\"] == \"seed\", \"round\"] = \"early stage\"\n",
    "df.loc[df[\"round\"] == \"a\", \"round\"] = \"early stage\"\n",
    "df[\"round\"].value_counts()"
   ]
  },
  {
   "cell_type": "code",
   "execution_count": 129,
   "metadata": {},
   "outputs": [
    {
     "name": "stdout",
     "output_type": "stream",
     "text": [
      "873\n",
      "845\n"
     ]
    }
   ],
   "source": [
    "# In the modified dataframe, what percentage of the rounds left were \"early stage\" (seed or a) in New York?\n",
    "# Answer: 845 / 873 = 97%\n",
    "ny_rounds = df.loc[df[\"state\"] == \"NY\"]\n",
    "print(len(california_rounds))\n",
    "ny_seed_rounds = df.loc[df[\"round\"] == \"early stage\"]\n",
    "print(len(ny_seed_rounds))"
   ]
  },
  {
   "cell_type": "code",
   "execution_count": 132,
   "metadata": {},
   "outputs": [
    {
     "data": {
      "text/plain": [
       "1460"
      ]
     },
     "execution_count": 132,
     "metadata": {},
     "output_type": "execute_result"
    }
   ],
   "source": [
    "# Finally, please save the results from the modified dataframe to a file called \"funding2.csv\"\n",
    "df.to_csv('funding2.csv')\n",
    "# Then reopen the file, reading it into a new dataframe\n",
    "# How many records does it contain?\n",
    "# Answer: still 1460 - it worked!\n",
    "df2 = pd.read_csv('funding2.csv')\n",
    "len(df2)"
   ]
  },
  {
   "cell_type": "markdown",
   "metadata": {},
   "source": [
    "## Web Scraping Practice\n",
    "\n",
    "Here's a chance to practice your web scraping skills. In this final section, you'll practice your scraping skills on a music website: https://www.residentadvisor.net. Start by navigating to the events page [here](https://www.residentadvisor.net/events) in your browser.\n",
    "\n",
    "<img src=\"images/ra.png\">\n",
    "\n",
    "Next up, open the \"inspect element\" feature in your web browser in order to preview the underlying HTML associated with the page. \n",
    "\n",
    "Start by importing all of the methods you need and then loading all of the event listings into a collection called `event_listings`"
   ]
  },
  {
   "cell_type": "code",
   "execution_count": 140,
   "metadata": {},
   "outputs": [
    {
     "name": "stdout",
     "output_type": "stream",
     "text": [
      "113 <li><p class=\"eventDate date\"><a href=\"/events.aspx?ai=8&amp;v=day&amp;mn=4&amp;yr=2019&amp;dy=12\"><span>Fri, 12 Apr 2019 /</span></a></p></li>\n"
     ]
    }
   ],
   "source": [
    "import re\n",
    "import pandas as pd\n",
    "import requests\n",
    "from bs4 import BeautifulSoup\n",
    "\n",
    "response = requests.get(\"https://www.residentadvisor.net/events/us/newyork\")\n",
    "soup = BeautifulSoup(response.content, 'html.parser')\n",
    "\n",
    "event_listings_collection = soup.find('div', id=\"event-listing\")\n",
    "event_listings = event_listings_collection.findAll('li')\n",
    "print(len(event_listings), event_listings[0])"
   ]
  },
  {
   "cell_type": "markdown",
   "metadata": {},
   "source": [
    "Now iterate over the collection to load the Event_Name, Venue and Event_Date into a DataFrame:"
   ]
  },
  {
   "cell_type": "code",
   "execution_count": 141,
   "metadata": {},
   "outputs": [
    {
     "data": {
      "text/html": [
       "<div>\n",
       "<style scoped>\n",
       "    .dataframe tbody tr th:only-of-type {\n",
       "        vertical-align: middle;\n",
       "    }\n",
       "\n",
       "    .dataframe tbody tr th {\n",
       "        vertical-align: top;\n",
       "    }\n",
       "\n",
       "    .dataframe thead th {\n",
       "        text-align: right;\n",
       "    }\n",
       "</style>\n",
       "<table border=\"1\" class=\"dataframe\">\n",
       "  <thead>\n",
       "    <tr style=\"text-align: right;\">\n",
       "      <th></th>\n",
       "      <th>0</th>\n",
       "      <th>1</th>\n",
       "      <th>2</th>\n",
       "    </tr>\n",
       "  </thead>\n",
       "  <tbody>\n",
       "    <tr>\n",
       "      <th>0</th>\n",
       "      <td>Stavroz live! presented by Zero</td>\n",
       "      <td>The Wiilliamsburg Hotel</td>\n",
       "      <td>Fri, 12 Apr 2019 /</td>\n",
       "    </tr>\n",
       "    <tr>\n",
       "      <th>1</th>\n",
       "      <td>Club Night Club presents: Pariah</td>\n",
       "      <td>TBA - Brooklyn</td>\n",
       "      <td>Fri, 12 Apr 2019 /</td>\n",
       "    </tr>\n",
       "    <tr>\n",
       "      <th>2</th>\n",
       "      <td>Ladyfag presents No Frills</td>\n",
       "      <td>Kings Hall - Avant Gardner</td>\n",
       "      <td>Fri, 12 Apr 2019 /</td>\n",
       "    </tr>\n",
       "    <tr>\n",
       "      <th>3</th>\n",
       "      <td>Kindergarten with DJ Bus Replacement Service, ...</td>\n",
       "      <td>Elsewhere</td>\n",
       "      <td>Fri, 12 Apr 2019 /</td>\n",
       "    </tr>\n",
       "    <tr>\n",
       "      <th>4</th>\n",
       "      <td>Quantic Residency with Darker Than Wax Plus Fi...</td>\n",
       "      <td>Good Room</td>\n",
       "      <td>Fri, 12 Apr 2019 /</td>\n",
       "    </tr>\n",
       "  </tbody>\n",
       "</table>\n",
       "</div>"
      ],
      "text/plain": [
       "                                                   0  \\\n",
       "0                    Stavroz live! presented by Zero   \n",
       "1                   Club Night Club presents: Pariah   \n",
       "2                         Ladyfag presents No Frills   \n",
       "3  Kindergarten with DJ Bus Replacement Service, ...   \n",
       "4  Quantic Residency with Darker Than Wax Plus Fi...   \n",
       "\n",
       "                            1                   2  \n",
       "0     The Wiilliamsburg Hotel  Fri, 12 Apr 2019 /  \n",
       "1              TBA - Brooklyn  Fri, 12 Apr 2019 /  \n",
       "2  Kings Hall - Avant Gardner  Fri, 12 Apr 2019 /  \n",
       "3                   Elsewhere  Fri, 12 Apr 2019 /  \n",
       "4                   Good Room  Fri, 12 Apr 2019 /  "
      ]
     },
     "execution_count": 141,
     "metadata": {},
     "output_type": "execute_result"
    }
   ],
   "source": [
    "rows = []\n",
    "for entry in event_listings:\n",
    "    #Is it a date? If so, set current date.\n",
    "    date = entry.find('p', class_=\"eventDate date\")\n",
    "    event = entry.find('h1', class_=\"event-title\")\n",
    "    if event:\n",
    "        details = event.text.split(' at ')\n",
    "        event_name = details[0].strip()\n",
    "        venue = details[1].strip()\n",
    "        rows.append([event_name, venue, cur_date])\n",
    "    elif date:\n",
    "        cur_date = date.text\n",
    "    else:\n",
    "        continue\n",
    "df = pd.DataFrame(rows)\n",
    "df.head()"
   ]
  },
  {
   "cell_type": "markdown",
   "metadata": {},
   "source": [
    "And finally, save the results to a csv file called `events.csv`, and confirm you can read from the file into a new DataFrame."
   ]
  },
  {
   "cell_type": "code",
   "execution_count": 142,
   "metadata": {},
   "outputs": [
    {
     "data": {
      "text/html": [
       "<div>\n",
       "<style scoped>\n",
       "    .dataframe tbody tr th:only-of-type {\n",
       "        vertical-align: middle;\n",
       "    }\n",
       "\n",
       "    .dataframe tbody tr th {\n",
       "        vertical-align: top;\n",
       "    }\n",
       "\n",
       "    .dataframe thead th {\n",
       "        text-align: right;\n",
       "    }\n",
       "</style>\n",
       "<table border=\"1\" class=\"dataframe\">\n",
       "  <thead>\n",
       "    <tr style=\"text-align: right;\">\n",
       "      <th></th>\n",
       "      <th>Unnamed: 0</th>\n",
       "      <th>0</th>\n",
       "      <th>1</th>\n",
       "      <th>2</th>\n",
       "    </tr>\n",
       "  </thead>\n",
       "  <tbody>\n",
       "    <tr>\n",
       "      <th>0</th>\n",
       "      <td>0</td>\n",
       "      <td>Stavroz live! presented by Zero</td>\n",
       "      <td>The Wiilliamsburg Hotel</td>\n",
       "      <td>Fri, 12 Apr 2019 /</td>\n",
       "    </tr>\n",
       "    <tr>\n",
       "      <th>1</th>\n",
       "      <td>1</td>\n",
       "      <td>Club Night Club presents: Pariah</td>\n",
       "      <td>TBA - Brooklyn</td>\n",
       "      <td>Fri, 12 Apr 2019 /</td>\n",
       "    </tr>\n",
       "    <tr>\n",
       "      <th>2</th>\n",
       "      <td>2</td>\n",
       "      <td>Ladyfag presents No Frills</td>\n",
       "      <td>Kings Hall - Avant Gardner</td>\n",
       "      <td>Fri, 12 Apr 2019 /</td>\n",
       "    </tr>\n",
       "    <tr>\n",
       "      <th>3</th>\n",
       "      <td>3</td>\n",
       "      <td>Kindergarten with DJ Bus Replacement Service, ...</td>\n",
       "      <td>Elsewhere</td>\n",
       "      <td>Fri, 12 Apr 2019 /</td>\n",
       "    </tr>\n",
       "    <tr>\n",
       "      <th>4</th>\n",
       "      <td>4</td>\n",
       "      <td>Quantic Residency with Darker Than Wax Plus Fi...</td>\n",
       "      <td>Good Room</td>\n",
       "      <td>Fri, 12 Apr 2019 /</td>\n",
       "    </tr>\n",
       "  </tbody>\n",
       "</table>\n",
       "</div>"
      ],
      "text/plain": [
       "   Unnamed: 0                                                  0  \\\n",
       "0           0                    Stavroz live! presented by Zero   \n",
       "1           1                   Club Night Club presents: Pariah   \n",
       "2           2                         Ladyfag presents No Frills   \n",
       "3           3  Kindergarten with DJ Bus Replacement Service, ...   \n",
       "4           4  Quantic Residency with Darker Than Wax Plus Fi...   \n",
       "\n",
       "                            1                   2  \n",
       "0     The Wiilliamsburg Hotel  Fri, 12 Apr 2019 /  \n",
       "1              TBA - Brooklyn  Fri, 12 Apr 2019 /  \n",
       "2  Kings Hall - Avant Gardner  Fri, 12 Apr 2019 /  \n",
       "3                   Elsewhere  Fri, 12 Apr 2019 /  \n",
       "4                   Good Room  Fri, 12 Apr 2019 /  "
      ]
     },
     "execution_count": 142,
     "metadata": {},
     "output_type": "execute_result"
    }
   ],
   "source": [
    "df.to_csv('events.csv')\n",
    "new_df = pd.read_csv('events.csv')\n",
    "new_df.head()"
   ]
  },
  {
   "cell_type": "markdown",
   "metadata": {},
   "source": [
    "## Summary\n",
    "\n",
    "Congratulations! Thanks so much for taking the time to improve your skills. This course won't answer all of your questions or provide all of the skills that you need. The number of tools out there and the speed at which technology changes makes that impractical. But hopefully you'll be able to use what you have learned as a starting point for future exploration and improvements! Thanks so much for your time!\n"
   ]
  }
 ],
 "metadata": {
  "kernelspec": {
   "display_name": "Python 3",
   "language": "python",
   "name": "python3"
  },
  "language_info": {
   "codemirror_mode": {
    "name": "ipython",
    "version": 3
   },
   "file_extension": ".py",
   "mimetype": "text/x-python",
   "name": "python",
   "nbconvert_exporter": "python",
   "pygments_lexer": "ipython3",
   "version": "3.6.5"
  }
 },
 "nbformat": 4,
 "nbformat_minor": 2
}
